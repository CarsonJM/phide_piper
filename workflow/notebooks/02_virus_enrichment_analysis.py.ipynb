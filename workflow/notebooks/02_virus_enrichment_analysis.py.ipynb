{
 "cells": [
  {
   "cell_type": "code",
   "execution_count": null,
   "metadata": {},
   "outputs": [],
   "source": [
    "import pandas as pd\n",
    "from plotnine import *\n",
    "\n",
    "vqc = pd.read_csv(str(snakemake.input), sep=\"\\t\")\n",
    "vqc_score = vqc.melt(id_vars=['Sample'], value_vars=['total enrichmnet score'])\n",
    "\n",
    "enrich_score_plot = (\n",
    "    ggplot(vqc_score)\n",
    "    + geom_boxplot(aes(x='variable', y='value'))\n",
    ")\n",
    "\n",
    "enrich_score_plot.save(str(snakemake.output), dpi=600)"
   ]
  }
 ],
 "metadata": {
  "kernelspec": {
   "display_name": "Python 3.8.10 64-bit",
   "language": "python",
   "name": "python3"
  },
  "language_info": {
   "name": "python",
   "version": "3.8.10"
  },
  "orig_nbformat": 4,
  "vscode": {
   "interpreter": {
    "hash": "916dbcbb3f70747c44a77c7bcd40155683ae19c65e1c03b4aa3499c5328201f1"
   }
  }
 },
 "nbformat": 4,
 "nbformat_minor": 2
}
