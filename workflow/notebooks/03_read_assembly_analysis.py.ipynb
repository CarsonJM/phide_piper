{
 "cells": [
  {
   "cell_type": "code",
   "execution_count": null,
   "metadata": {},
   "outputs": [],
   "source": [
    "import pandas as pd\n",
    "from plotnine import *\n",
    "\n",
    "assembly = pd.read_csv(str(snakemake.input), sep='\\t')\n",
    "assembly_count = assembly.copy()\n",
    "assembly_len = assembly.copy()\n",
    "\n",
    "assembly_count.rename(columns = {'# contigs (>= 0 bp)':'0',\n",
    "'# contigs (>= 1000 bp)':'1000', \n",
    "'# contigs (>= 5000 bp)':'5000', \n",
    "'# contigs (>= 10000 bp)':'10000'},\n",
    "inplace = True)\n",
    "\n",
    "assembly_len.rename(columns = {'Total length (>= 0 bp)':'0', \n",
    "'Total length (>= 1000 bp)':'1000', \n",
    "'Total length (>= 5000 bp)':'5000', \n",
    "'Total length (>= 10000 bp)':'10000'},\n",
    "inplace = True)\n",
    "\n",
    "assembly_count_melt = assembly_count.melt(id_vars=['Assembly'], value_vars=['0', '1000', '5000', '10000'])\n",
    "assembly_len_melt = assembly_len.melt(id_vars=['Assembly'], value_vars=['0', '1000', '5000', '10000'])\n",
    "assembly_count_melt['variable'] = pd.Categorical(assembly_count_melt['variable'], categories=['0', '1000', '5000', '10000'], ordered = True)\n",
    "assembly_len_melt['variable'] = pd.Categorical(assembly_len_melt['variable'], categories=['0', '1000', '5000', '10000'], ordered = True)\n",
    "assembly_count_melt['type'] = \"Contig count\"\n",
    "assembly_len_melt['type'] = \"Combined contig length\"\n",
    "\n",
    "assembly_concat = pd.concat([assembly_count_melt, assembly_len_melt], axis=0)\n",
    "\n",
    "assembly_plot = (\n",
    "    ggplot(assembly_concat)\n",
    "    + geom_boxplot(aes(x='variable', y='value'))\n",
    "    + xlab(\"Minimum contig length\")\n",
    "    + ylab(\"\")\n",
    "    + facet_wrap('type', dir='v', ncol=1, scales='free')\n",
    ")\n",
    "\n",
    "assembly_plot.save(str(snakemake.output), dpi=600)"
   ]
  }
 ],
 "metadata": {
  "kernelspec": {
   "display_name": "Python",
   "language": "python",
   "name": "python3"
  },
  "language_info": {
   "name": "python",
   "version": ""
  },
  "orig_nbformat": 4,
  "vscode": {
   "interpreter": {
    "hash": "25a19fbe0a9132dfb9279d48d161753c6352f8f9478c2e74383d340069b907c3"
   }
  }
 },
 "nbformat": 4,
 "nbformat_minor": 2
}
