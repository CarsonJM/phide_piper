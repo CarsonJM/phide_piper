{
 "cells": [
  {
   "cell_type": "code",
   "execution_count": null,
   "metadata": {},
   "outputs": [],
   "source": [
    "import pandas as pd\n",
    "from Bio import SeqIO\n",
    "\n",
    "# read viral identification report\n",
    "report = pd.read_csv(str(snakemake.input.viral_report))\n",
    "\n",
    "# filter based on config paramters\n",
    "# extract mgv virus sequences\n",
    "if snakemake.params.run_mgv: \n",
    "    mgv_report = report[report['MGV_viral'] == 'Viral']\n",
    "else:\n",
    "    mgv_report = []\n",
    "\n",
    "if snakemake.params.run_vf:\n",
    "    vf_report = report[(report['VirFinder_score'] >= snakemake.params.vf_score)]\n",
    "else:\n",
    "    vf_report = []\n",
    "\n",
    "if snakemake.params.run_vs:\n",
    "    report['VirSorter_cat'] = report.apply(lambda x: x.Category_number if x.Category_text == 'complete_phage' else x.Category_number + 3, axis=1)\n",
    "    vs_report = report[report['VirSorter_cat'].isin(snakemake.params.vs_cat)]\n",
    "else:\n",
    "    vs_report = []\n",
    "\n",
    "if snakemake.params.run_vs2:\n",
    "    vs2_report = report[report['VirSorter2_max_score'] >= snakemake.params.vs2_score]\n",
    "else:\n",
    "    vs2_report = []\n",
    "\n",
    "if snakemake.params.run_dvf:\n",
    "    dvf_report = report[(report['DeepVirFinder_score'] >= snakemake.params.dvf_score)]\n",
    "else:\n",
    "    dvf_report = []\n",
    "\n",
    "if snakemake.params.run_vb:\n",
    "    vb_report = report[report['VIBRANT_viruses'].notnull()]\n",
    "else:\n",
    "    vb_report = []\n",
    "\n",
    "if snakemake.params.run_genomad:\n",
    "    genomad_report = report[report['virus_score'] >= snakemake.params.genomad_score]\n",
    "else:\n",
    "    genomad_report = []\n",
    "\n",
    "# list to store all combined sequences\n",
    "combined_sequences = []\n",
    "\n",
    "# extract viral contigs\n",
    "for record in SeqIO.parse(str(snakemake.input.contigs), \"fasta\"):\n",
    "    record.id = snakemake.params.assembly + '_' + record.id\n",
    "    if record.id in set(mgv_report['contig_id']):\n",
    "        combined_sequences.append(record)\n",
    "    elif record.id in set(vf_report['contig_id']):\n",
    "        combined_sequences.append(record)\n",
    "    elif record.id in set(vs_report['contig_id']):\n",
    "        combined_sequences.append(record)\n",
    "    elif record.id in set(vs2_report['contig_id']):\n",
    "        combined_sequences.append(record)\n",
    "    elif record.id in set(dvf_report['contig_id']):\n",
    "        combined_sequences.append(record)\n",
    "    elif record.id in set(vb_report['contig_id']):\n",
    "        combined_sequences.append(record)\n",
    "    elif record.id in set(cenote_taker2_report['contig_id']):\n",
    "        combined_sequences.append(record)\n",
    "\n",
    "SeqIO.write(combined_sequences, str(snakemake.output), \"fasta\")"
   ]
  }
 ],
 "metadata": {
  "kernelspec": {
   "display_name": "Python",
   "language": "python",
   "name": "python3"
  },
  "language_info": {
   "codemirror_mode": {
    "name": "ipython",
    "version": 3
   },
   "file_extension": ".py",
   "mimetype": "text/x-python",
   "name": "python",
   "nbconvert_exporter": "python",
   "pygments_lexer": "ipython3",
   "version": ""
  },
  "orig_nbformat": 4,
  "vscode": {
   "interpreter": {
    "hash": "25a19fbe0a9132dfb9279d48d161753c6352f8f9478c2e74383d340069b907c3"
   }
  }
 },
 "nbformat": 4,
 "nbformat_minor": 2
}
