{
 "cells": [
  {
   "cell_type": "code",
   "execution_count": null,
   "metadata": {},
   "outputs": [],
   "source": [
    "import pandas as pd\n",
    "from Bio import SeqIO\n",
    "\n",
    "# open clustering results\n",
    "read_screen =  pd.read_csv(str(snakemake.input.read_screen), sep='\\t', header=None, index_col=False,\n",
    "                    names=['identity', 'shared-hashes', 'median-multiplicity', 'p-value', 'query-id', 'query-comment'])\n",
    "read_screen['shared-hashes'] = read_screen['shared-hashes'].str.partition('/')[0]\n",
    "read_screen_filt = read_screen[((read_screen['identity'] * 100) > snakemake.params.min_mash_identity ) & (read_screen[\"shared-hashes\"].astype(int) > snakemake.params.min_mash_shared_hashes) & (read_screen[\"median-multiplicity\"] > snakemake.params.min_mash_median_multiplicity)]\n",
    "\n",
    "read_screen_filt_queries = set(read_screen_filt['query-id'])\n",
    "\n",
    "# extract representative sequences from fasta file\n",
    "virusdb_hits = []\n",
    "\n",
    "for record in SeqIO.parse(str(snakemake.input.virusdb), \"fasta\"):\n",
    "    if record.id in read_screen_filt_queries:\n",
    "        virusdb_hits.append(record)\n",
    "        \n",
    "# save all sequences to specified file\n",
    "SeqIO.write(virusdb_hits, str(snakemake.output), \"fasta\")"
   ]
  }
 ],
 "metadata": {
  "kernelspec": {
   "display_name": "Python",
   "language": "python",
   "name": "python3"
  },
  "language_info": {
   "name": "python",
   "version": ""
  },
  "orig_nbformat": 4,
  "vscode": {
   "interpreter": {
    "hash": "25a19fbe0a9132dfb9279d48d161753c6352f8f9478c2e74383d340069b907c3"
   }
  }
 },
 "nbformat": 4,
 "nbformat_minor": 2
}
