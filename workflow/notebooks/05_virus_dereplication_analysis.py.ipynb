{
 "cells": [
  {
   "cell_type": "code",
   "execution_count": null,
   "metadata": {},
   "outputs": [],
   "source": [
    "import pandas as pd\n",
    "from plotnine import *\n",
    "\n",
    "# open clustering results\n",
    "derep = open(\n",
    "    str(snakemake.input)\n",
    "    # '/home/carsonjm/CarsonJM/phide_piper/results/05_VIRUS_CLUSTERING/03_cluster_viruses/virus_virusdb_combined_clusters.tsv'\n",
    "    , 'r')\n",
    "\n",
    "node_lengths = []\n",
    "for line in derep:\n",
    "    stripped = line.strip()\n",
    "    centroid, nodes = stripped.split('\\t')\n",
    "    nodes_split = nodes.split(\",\")\n",
    "    node_lengths.append(len(nodes_split))\n",
    "\n",
    "cluster_derep = pd.DataFrame()\n",
    "cluster_derep['node_lengths'] = node_lengths\n",
    "\n",
    "cluster_size_plot = (\n",
    "    ggplot(cluster_derep)\n",
    "    + geom_bar(aes(x='node_lengths'), position='identity')\n",
    "    + theme(figure_size=(16, 8)) \n",
    "    + labs(title='Distribution of cluster sizes')\n",
    "    + ylab(\"Number of clusters\")\n",
    "    + xlab(\"Number of sequences in a cluster\")\n",
    ")\n",
    "\n",
    "cluster_size_plot.save(str(snakemake.output), dpi=600)"
   ]
  }
 ],
 "metadata": {
  "kernelspec": {
   "display_name": "Python",
   "language": "python",
   "name": "python3"
  },
  "language_info": {
   "name": "python",
   "version": ""
  },
  "orig_nbformat": 4,
  "vscode": {
   "interpreter": {
    "hash": "25a19fbe0a9132dfb9279d48d161753c6352f8f9478c2e74383d340069b907c3"
   }
  }
 },
 "nbformat": 4,
 "nbformat_minor": 2
}
