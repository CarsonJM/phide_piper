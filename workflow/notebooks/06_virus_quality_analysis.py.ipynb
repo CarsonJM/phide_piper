{
 "cells": [
  {
   "cell_type": "code",
   "execution_count": null,
   "metadata": {},
   "outputs": [],
   "source": [
    "import pandas as pd\n",
    "from plotnine import *\n",
    "\n",
    "checkv = pd.read_csv(\n",
    "    str(snakemake.input)\n",
    "    # '/home/carsonjm/CarsonJM/phide_piper/results/06_VIRUS_QUALITY/01_checkv/quality_summary.tsv'\n",
    "    , sep='\\t')\n",
    "\n",
    "checkv.loc[checkv['completeness'] > 90, 'high-quality'] = True\n",
    "checkv.loc[checkv['completeness'] > 50, 'medium-quality'] = True\n",
    "checkv.loc[checkv['completeness'].notnull(), 'low-quality'] = True\n",
    "checkv.loc[checkv['completeness'].isnull(), 'undetermined'] = True\n",
    "checkv.loc[(checkv['completeness'].isnull() | checkv['completeness'].notnull()), 'total'] = True\n",
    " \n",
    "checkv_melt = checkv.melt(id_vars='contig_id', value_vars=['high-quality', 'medium-quality', 'low-quality', 'undetermined', 'total'])\n",
    "checkv_melt2 = checkv_melt[checkv_melt['value'] == True]\n",
    "checkv_melt2_rn = checkv_melt2.rename(columns={'variable':'quality'})\n",
    "checkv_melt2_rn['quality'] = pd.Categorical(checkv_melt2_rn['quality'], categories=['total', 'undetermined', 'low-quality', 'medium-quality', 'high-quality'], ordered = True)\n",
    "\n",
    "vq_plot = (\n",
    "    ggplot(checkv_melt2_rn)\n",
    "    + geom_bar(aes(x='quality'), position=\"dodge\")\n",
    "    + ylab(\"Number of putative viruses identified\")\n",
    "    + xlab(\"CheckV virus quality categories\")\n",
    ")\n",
    "\n",
    "vq_plot.save(str(snakemake.output.figure), dpi=600)"
   ]
  }
 ],
 "metadata": {
  "kernelspec": {
   "display_name": "Python",
   "language": "python",
   "name": "python3"
  },
  "language_info": {
   "codemirror_mode": {
    "name": "ipython",
    "version": 3
   },
   "file_extension": ".py",
   "mimetype": "text/x-python",
   "name": "python",
   "nbconvert_exporter": "python",
   "pygments_lexer": "ipython3",
   "version": ""
  },
  "orig_nbformat": 4,
  "vscode": {
   "interpreter": {
    "hash": "25a19fbe0a9132dfb9279d48d161753c6352f8f9478c2e74383d340069b907c3"
   }
  }
 },
 "nbformat": 4,
 "nbformat_minor": 2
}
