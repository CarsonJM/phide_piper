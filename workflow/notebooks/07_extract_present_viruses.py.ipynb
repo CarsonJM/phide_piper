{
 "cells": [
  {
   "cell_type": "code",
   "execution_count": null,
   "metadata": {},
   "outputs": [],
   "source": [
    "import pandas as pd\n",
    "from Bio import SeqIO\n",
    "\n",
    "# open clustering results\n",
    "metapop =  pd.read_csv(str(snakemake.input.metapop), sep='\\t', header=None, index_col=False,\n",
    "                    names=['virus_id', 'length', 'breadth', 'depth'])\n",
    "metapop_filt = metapop[((metapop['breadth']) >= snakemake.params.min_breadth ) & (metapop[\"depth\"] >= snakemake.params.min_depth)]\n",
    "\n",
    "metapop_filt_queries = set(metapop_filt['virus_id'])\n",
    "\n",
    "# extract representative sequences from fasta file\n",
    "present_viruses = []\n",
    "\n",
    "for record in SeqIO.parse(str(snakemake.input.viruses), \"fasta\"):\n",
    "    if record.id in metapop_filt_queries:\n",
    "        present_viruses.append(record)\n",
    "        \n",
    "# save all sequences to specified file\n",
    "SeqIO.write(present_viruses, str(snakemake.output), \"fasta\")"
   ]
  }
 ],
 "metadata": {
  "kernelspec": {
   "display_name": "Python",
   "language": "python",
   "name": "python3"
  },
  "language_info": {
   "name": "python",
   "version": ""
  },
  "orig_nbformat": 4,
  "vscode": {
   "interpreter": {
    "hash": "25a19fbe0a9132dfb9279d48d161753c6352f8f9478c2e74383d340069b907c3"
   }
  }
 },
 "nbformat": 4,
 "nbformat_minor": 2
}
