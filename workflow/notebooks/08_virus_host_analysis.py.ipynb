{
 "cells": [
  {
   "cell_type": "code",
   "execution_count": null,
   "metadata": {},
   "outputs": [],
   "source": [
    "import pandas as pd\n",
    "\n",
    "# read bacteria_db metadata for merging with rafah genus\n",
    "bacteria_db_metadata = pd.read_csv(str(snakemake.input.meta), sep='\\t')\n",
    "# split lineage column\n",
    "bacteria_db_metadata[['superkingdom', 'phylum', 'class', 'order','family', 'genus', 'species']] = bacteria_db_metadata['Lineage'].str.split(';', expand=True)\n",
    "bacteria_db_metadata['genus'] = bacteria_db_metadata['genus'].str.partition('__')[2]\n",
    "bacteria_db_metadata2 = bacteria_db_metadata[['genus', 'Lineage']].drop_duplicates('genus')\n",
    "\n",
    "\n",
    "# read host taxonomy results\n",
    "spacer = pd.read_csv(str(snakemake.input.spacer))\n",
    "blast = pd.read_csv(str(snakemake.input.blast))\n",
    "phist = pd.read_csv(str(snakemake.input.phist))\n",
    "votu = pd.read_csv(str(snakemake.input.votu))\n",
    "rafah = pd.read_csv(str(snakemake.input.rafah), sep='\\t')\n",
    "\n",
    "sp_bl = spacer.merge(blast, on='viral_genome', how='outer')\n",
    "sp_bl_ph = sp_bl.merge(phist, on='viral_genome', how='outer')\n",
    "sp_bl_ph_votu = sp_bl_ph.merge(votu, on='viral_genome', how='outer')\n",
    "\n",
    "rafah.rename(columns={'Predicted_Host':'genus', 'Variable':'viral_genome'}, inplace=True)\n",
    "rafah_meta = rafah.merge(bacteria_db_metadata2, on='genus')\n",
    "rafah_meta.rename(columns={'Lineage':'rafah_host_taxonomy'}, inplace=True)\n",
    "bacteria_db_metadata2.to_csv('/labdata3/hoffdata/carsonjm/CarsonJM/phide_piper_test/test.csv')\n",
    "rafah_final = rafah_meta[['viral_genome', 'rafah_host_taxonomy']]\n",
    "\n",
    "sp_bl_ph_votu_ra = sp_bl_ph_votu.merge(rafah_final, on='viral_genome', how='outer')\n",
    "\n",
    "sp_bl_ph_votu_ra.to_csv(str(snakemake.output), index=False)"
   ]
  }
 ],
 "metadata": {
  "kernelspec": {
   "display_name": "Python",
   "language": "python",
   "name": "python3"
  },
  "language_info": {
   "name": "python",
   "version": ""
  },
  "orig_nbformat": 4,
  "vscode": {
   "interpreter": {
    "hash": "25a19fbe0a9132dfb9279d48d161753c6352f8f9478c2e74383d340069b907c3"
   }
  }
 },
 "nbformat": 4,
 "nbformat_minor": 2
}
