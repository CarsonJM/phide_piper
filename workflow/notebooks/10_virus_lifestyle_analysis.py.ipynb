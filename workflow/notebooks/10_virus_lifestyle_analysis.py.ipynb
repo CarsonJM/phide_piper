{
 "cells": [
  {
   "cell_type": "code",
   "execution_count": null,
   "metadata": {},
   "outputs": [],
   "source": [
    "import pandas as pd\n",
    "from plotnine import *\n",
    "\n",
    "# read metaphlan data\n",
    "lifestyles = pd.read_csv(\n",
    "    str(snakemake.input)\n",
    "    # '/home/carsonjm/CarsonJM/phide_piper/08_VIRUS_LIFESTYLE/virus_lifestyle_report.csv'\n",
    "    )\n",
    "\n",
    "# prepare for plotting\n",
    "bacphlip_count = lifestyles[['viral_genome', 'BACPHLIP_class']]\n",
    "bacphlip_count['tool'] = 'BACPHLIP'\n",
    "bacphlip_count['class'] = bacphlip_count['BACPHLIP_class']\n",
    "bacphlip_count2 = bacphlip_count[['class', 'tool']]\n",
    "\n",
    "checkv_count = lifestyles[['viral_genome', 'CheckV_provirus']]\n",
    "checkv_count['class'] = checkv_count.apply(lambda x: 'Temperate' if x.CheckV_provirus == 'Yes' else 'Lytic', axis=1)\n",
    "checkv_count['tool'] = 'CheckV'\n",
    "checkv_count2 = checkv_count[['class', 'tool']]\n",
    "\n",
    "combined_count = pd.concat([bacphlip_count2, checkv_count2])\n",
    "\n",
    "# plot phylum abundances\n",
    "plot = (\n",
    "    ggplot(combined_count)\n",
    "    + geom_bar(aes(x='tool', fill='class'))\n",
    "    + labs(title='Proportion Temperate vs Lytic viruses')\n",
    "    + ylab(\"Proportion total viruses\")\n",
    "    + xlab(\"Tool used\")\n",
    ")\n",
    "\n",
    "# save figure to file\n",
    "plot.save(str(snakemake.output), dpi=600)"
   ]
  }
 ],
 "metadata": {
  "kernelspec": {
   "display_name": "Python",
   "language": "python",
   "name": "python3"
  },
  "language_info": {
   "name": "python",
   "version": ""
  },
  "orig_nbformat": 4,
  "vscode": {
   "interpreter": {
    "hash": "25a19fbe0a9132dfb9279d48d161753c6352f8f9478c2e74383d340069b907c3"
   }
  }
 },
 "nbformat": 4,
 "nbformat_minor": 2
}
