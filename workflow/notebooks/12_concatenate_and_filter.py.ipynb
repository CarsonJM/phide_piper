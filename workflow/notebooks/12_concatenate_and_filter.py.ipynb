{
 "cells": [
  {
   "cell_type": "code",
   "execution_count": null,
   "metadata": {},
   "outputs": [],
   "source": [
    "import Bio.SeqIO\n",
    "import os\n",
    "\n",
    "genome_ids = set([_[1:].split()[0].rsplit('_', 1)[0] for _ in open(str(snakemake.input.viruses)) if _[0]=='>'])\n",
    "\n",
    "msa_catted = dict([(id, '') for id in genome_ids])\n",
    "msa_count = dict([(id, 0) for id in genome_ids])\n",
    "for index, file in enumerate(os.listdir(str(snakemake.params.in_dir))):\n",
    "\tmarker_id = file.split('.')[0]\n",
    "\tgenome_to_gene = {}\n",
    "\tinpath = '%s/%s' % (str(snakemake.params.in_dir), file)\n",
    "\tfor r in Bio.SeqIO.parse(inpath, format='clustal'):\n",
    "\t\tgenome_id = r.id.rsplit('_', 1)[0]\n",
    "\t\tgenome_to_gene[genome_id] = r\n",
    "\tmarker_length = len(genome_to_gene[genome_id].seq)\n",
    "\tfor genome_id in genome_ids:\n",
    "\t\tif genome_id not in genome_to_gene:\n",
    "\t\t\tmsa_catted[genome_id] += \"-\" * marker_length\n",
    "\t\telse:\n",
    "\t\t\tgene = genome_to_gene[genome_id]\n",
    "\t\t\tmsa_catted[genome_id] += str(gene.seq).replace('.', '-')\n",
    "\t\t\tmsa_count[genome_id] += 1\n",
    "\n",
    "genome_to_gaps = {}\n",
    "for genome_id in genome_ids:\n",
    "\tseq = msa_catted[genome_id]\n",
    "\tperc_gaps = round(100*seq.count('-')/float(len(seq)), 2)\n",
    "\tgenome_to_gaps[genome_id] = perc_gaps\n",
    "\n",
    "hits_dir = str(snakemake.params.out_dir)\n",
    "if not os.path.exists(hits_dir):\n",
    "\tos.makedirs(hits_dir)\n",
    "\n",
    "with open('%sconcat.faa' % str(snakemake.params.out_dir), 'w') as f:\n",
    "\tfor genome_id, seq in msa_catted.items():\n",
    "\t\tperc_gaps = genome_to_gaps[genome_id]\n",
    "\t\tnum_hits = msa_count[genome_id]\n",
    "\t\tif perc_gaps < snakemake.params.max_percent_gaps and msa_count[genome_id] > snakemake.params.min_hits:\n",
    "\t\t\tf.write('>%s percent_gaps=%s num_hits=%s\\n' % (genome_id, perc_gaps, num_hits))\n",
    "\t\t\tf.write('%s\\n' % seq)\n"
   ]
  }
 ],
 "metadata": {
  "kernelspec": {
   "display_name": "Python",
   "language": "python",
   "name": "python3"
  },
  "language_info": {
   "name": "python",
   "version": ""
  },
  "orig_nbformat": 4,
  "vscode": {
   "interpreter": {
    "hash": "25a19fbe0a9132dfb9279d48d161753c6352f8f9478c2e74383d340069b907c3"
   }
  }
 },
 "nbformat": 4,
 "nbformat_minor": 2
}
