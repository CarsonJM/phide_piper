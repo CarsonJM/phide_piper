{
 "cells": [
  {
   "cell_type": "code",
   "execution_count": null,
   "metadata": {},
   "outputs": [],
   "source": [
    "import Bio.SeqIO\n",
    "import os\n",
    "\n",
    "faa = dict([(r.id, str(r.seq).rstrip('*')) for r in Bio.SeqIO.parse(str(snakemake.input.viruses), 'fasta')])\n",
    "\n",
    "hits_dir = str(snakemake.params.out_dir)\n",
    "if not os.path.exists(hits_dir):\n",
    "\tos.makedirs(hits_dir)\n",
    "\n",
    "hits = {}\n",
    "for line in open(str(snakemake.input.hmmsearch), 'r'):\n",
    "\tif line[0]=='#': continue\n",
    "\tr = line.split()\n",
    "\tif float(r[4]) > snakemake.params.max_evalue: continue\n",
    "\telif r[0] not in hits:\n",
    "\t\thits[r[0]] = r\n",
    "\telif float(r[5]) > float(hits[r[0]][5]):\n",
    "\t\thits[r[0]] = r\n",
    "\n",
    "marker_to_hits = {}\n",
    "for r in hits.values():\n",
    "\tmarker_id = r[2]\n",
    "\tif marker_id not in marker_to_hits:\n",
    "\t\tmarker_to_hits[marker_id] = []\n",
    "\tgene = faa[r[0]]\n",
    "\tmarker_to_hits[marker_id].append([r[0], gene])\n",
    "\n",
    "for marker_id in marker_to_hits:\n",
    "\toutpath = (str(snakemake.params.out_dir) + marker_id + \".faa\")\n",
    "\tout = open(outpath, 'w')\n",
    "\tfor gene_id, seq in marker_to_hits[marker_id]:\n",
    "\t\tout.write('>'+gene_id+'\\n'+seq+'\\n')\n",
    "\tout.close()\n",
    "\n",
    "fp = open(str(snakemake.output), 'x')\n",
    "fp.close()"
   ]
  }
 ],
 "metadata": {
  "kernelspec": {
   "display_name": "Python",
   "language": "python",
   "name": "python3"
  },
  "language_info": {
   "name": "python",
   "version": ""
  },
  "orig_nbformat": 4,
  "vscode": {
   "interpreter": {
    "hash": "25a19fbe0a9132dfb9279d48d161753c6352f8f9478c2e74383d340069b907c3"
   }
  }
 },
 "nbformat": 4,
 "nbformat_minor": 2
}
