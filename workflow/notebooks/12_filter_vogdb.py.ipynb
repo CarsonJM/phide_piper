{
 "cells": [
  {
   "cell_type": "code",
   "execution_count": null,
   "metadata": {},
   "outputs": [],
   "source": [
    "import pandas as pd\n",
    "import os\n",
    "import shutil\n",
    "\n",
    "# read ccp77\n",
    "ccp77 = pd.read_csv(str(snakemake.input.ccp77), sep='\\t')\n",
    "ccp77_set = set(ccp77['VOGid'])\n",
    "\n",
    "# list all files in vogdb\n",
    "vogdb_hmms = os.listdir(str(snakemake.params.vogdb_dir))\n",
    "\n",
    "# copy files in ccp77\n",
    "for hmm in vogdb_hmms:\n",
    "    vogdb = hmm.partition('.')[0]\n",
    "    if vogdb in ccp77_set:\n",
    "        shutil.copy(str(snakemake.params.vogdb_dir) + hmm, str(snakemake.params.ccp77_dir))\n",
    "    else:\n",
    "        continue\n"
   ]
  }
 ],
 "metadata": {
  "kernelspec": {
   "display_name": "Python",
   "language": "python",
   "name": "python3"
  },
  "language_info": {
   "name": "python",
   "version": ""
  },
  "orig_nbformat": 4,
  "vscode": {
   "interpreter": {
    "hash": "25a19fbe0a9132dfb9279d48d161753c6352f8f9478c2e74383d340069b907c3"
   }
  }
 },
 "nbformat": 4,
 "nbformat_minor": 2
}
