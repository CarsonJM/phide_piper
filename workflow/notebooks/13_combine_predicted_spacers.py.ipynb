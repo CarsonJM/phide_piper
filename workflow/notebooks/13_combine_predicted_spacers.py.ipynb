{
 "cells": [
  {
   "cell_type": "code",
   "execution_count": 61,
   "metadata": {},
   "outputs": [],
   "source": [
    "import pandas as pd\n",
    "import numpy as np\n",
    "from Bio import SeqIO\n",
    "\n",
    "\n",
    "### PILERCR & CRT ###\n",
    "# read pilercrt outputs\n",
    "piler_crt_spacers=pd.read_csv(str(snakemake.input.piler_crt_spacers), sep=\"\\t\", names=['contig_id', 'array_num_spacer', 'repeat_num', 'start_pos_spacer', 'repeat_seq', 'spacer_seq'])\n",
    "piler_crt_spacers2 = piler_crt_spacers[piler_crt_spacers['spacer_seq'].notnull()]\n",
    "\n",
    "# combine array and spacer info\n",
    "piler_crt_spacers2['contig_info'] = piler_crt_spacers2['contig_id'] + '_CRISPR_' + piler_crt_spacers2['array_num_spacer'].astype(str) + '_SPACER_' + piler_crt_spacers2['repeat_num'].astype(str) + '_' + piler_crt_spacers2[\"start_pos_spacer\"].astype(str)\n",
    "\n",
    "outfile=open(str(snakemake.output), 'x')\n",
    "\n",
    "#generate fasta\n",
    "for index,row in piler_crt_spacers2.iterrows():\n",
    "\toutfile.write('>' + row['contig_info'] + '\\n')\n",
    "\toutfile.write(str(row['spacer_seq'])+'\\n')\n",
    "\n",
    "outfile.close()"
   ]
  }
 ],
 "metadata": {
  "kernelspec": {
   "display_name": "Python",
   "language": "python",
   "name": "python3"
  },
  "language_info": {
   "codemirror_mode": {
    "name": "ipython",
    "version": 3
   },
   "file_extension": ".py",
   "mimetype": "text/x-python",
   "name": "python",
   "nbconvert_exporter": "python",
   "pygments_lexer": "ipython3",
   "version": ""
  },
  "orig_nbformat": 4,
  "vscode": {
   "interpreter": {
    "hash": "25a19fbe0a9132dfb9279d48d161753c6352f8f9478c2e74383d340069b907c3"
   }
  }
 },
 "nbformat": 4,
 "nbformat_minor": 2
}
