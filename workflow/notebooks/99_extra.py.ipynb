{
 "cells": [
  {
   "cell_type": "code",
   "execution_count": null,
   "metadata": {},
   "outputs": [],
   "source": [
    "### CRISPRDetect ###\n",
    "#import CRISPRDetect output gff\n",
    "detect_db=pd.read_csv(str(snakemake.input.crisprdetect), \n",
    "sep=\"\\t\",\n",
    "names=[\"contig_id\",\"tool\",\"type\",\"start\",\"stop\",\"length\",\"strand\",\"blank\",\"add_info\"])\n",
    "\n",
    "#select columns\n",
    "detect_db=detect_db[[\"contig_id\",\"tool\",\"type\",\"start\",\"stop\",\"length\",\"strand\",\"add_info\"]]\n",
    "\n",
    "# split arrays and spacers\n",
    "spacers = detect_db[detect_db[\"type\"] == \"binding_site\"]\n",
    "arrays = detect_db[detect_db[\"type\"] == \"repeat_region\"]\n",
    "\n",
    "# define array information\n",
    "arrays[['id', 'seq', 'dbxref', 'ontology', 'score']] = arrays['add_info'].str.split(';', expand=True)\n",
    "arrays['array_id'] = arrays['id'].str.split('=', expand=True)[1]\n",
    "arrays['array_num'] = arrays['array_id'].str.split('_', expand=True)[0]\n",
    "arrays[\"num\"] = arrays['array_num'].str.split('CRISPR', expand=True)[1]\n",
    "arrays['array_info'] = arrays['tool'] + '_' + arrays['contig_id'] + '_CRISPR_' + arrays['num'] +'_' + arrays[\"start\"] + '_' + arrays[\"stop\"]\n",
    "\n",
    "# define spacer_information\n",
    "spacers[['id', 'name', 'parent', 'seq', 'dbxref', 'ontology', 'score']] = spacers['add_info'].str.split(';', expand=True)\n",
    "spacers['parent_split'] = spacers['parent'].str.split('=', expand=True)[1]\n",
    "spacers['spacer_id'] = spacers['id'].str.split('=', expand=True)[1]\n",
    "spacers['spacer_num'] = spacers['spacer_id'].str.split('_', expand=True)[1]\n",
    "spacers[\"num\"] = spacers['spacer_num'].str.split('SPACER', expand=True)[1]\n",
    "spacers['spacer_info'] = 'SPACER' + '_' + spacers['num'] + '_' + spacers[\"start\"] + '_' + spacers[\"stop\"]\n",
    "spacers['spacer_seq'] = spacers['seq'].str.split('=', expand=True)[1]\n",
    "spacers.rename(columns={'parent_split':'array_id'}, inplace=True)\n",
    "\n",
    "# combine dataframes\n",
    "db_merged = spacers.merge(arrays, on='array_id')\n",
    "db_merged['output_name'] = db_merged['array_info'] + '_' + db_merged['spacer_info']\n",
    "\n",
    "#generate fasta\n",
    "outfile=open(str(snakemake.output), 'w')\n",
    "\n",
    "for index,row in db_merged.iterrows():\n",
    "\toutfile.write('>'+row['output_name']+'\\n')\n",
    "\toutfile.write(row['spacer_seq']+'\\n')\n",
    "\n",
    "outfile.close()\n",
    "\n",
    "\n",
    "### CRISPRidentify ###\n",
    "updated = []\n",
    "\n",
    "# read in the fasta\n",
    "for record in SeqIO.parse(str(snakemake.input.crispridentify), \"fasta\"):\n",
    "\trecord.id = 'CRISPRidentify_' + record.id\n",
    "\tupdated.append(record)\n",
    "\n",
    "SeqIO.write(updated, str(snakemake.output), \"fasta\")"
   ]
  }
 ],
 "metadata": {
  "kernelspec": {
   "display_name": "Python",
   "language": "python",
   "name": "python3"
  },
  "language_info": {
   "name": "python",
   "version": ""
  },
  "orig_nbformat": 4,
  "vscode": {
   "interpreter": {
    "hash": "25a19fbe0a9132dfb9279d48d161753c6352f8f9478c2e74383d340069b907c3"
   }
  }
 },
 "nbformat": 4,
 "nbformat_minor": 2
}
