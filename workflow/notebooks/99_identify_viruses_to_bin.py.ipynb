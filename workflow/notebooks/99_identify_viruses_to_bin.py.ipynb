{
 "cells": [
  {
   "cell_type": "code",
   "execution_count": null,
   "metadata": {},
   "outputs": [],
   "source": [
    "import pandas as pd\n",
    "from Bio import SeqIO\n",
    "\n",
    "# load checkv results\n",
    "checkv_df = pd.read_csv(str(snakemake.input.checkv_results), sep=\"\\t\")\n",
    "\n",
    "# filter checkv results based on input:\n",
    "checkv_filtered = checkv_df[checkv_df[\"completeness\"] < snakemake.params.max_completeness_to_bin]\n",
    "contigs_to_bin = checkv_filtered[\"contig_id\"]\n",
    "\n",
    "# save all sequences to specified file\n",
    "contigs_to_bin.to_csv(str(snakemake.output), index=False, header=False)\n"
   ]
  }
 ],
 "metadata": {
  "language_info": {
   "name": "python"
  },
  "orig_nbformat": 4
 },
 "nbformat": 4,
 "nbformat_minor": 2
}
